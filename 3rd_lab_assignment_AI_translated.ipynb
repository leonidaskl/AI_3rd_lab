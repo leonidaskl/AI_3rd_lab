{
  "nbformat": 4,
  "nbformat_minor": 0,
  "metadata": {
    "colab": {
      "name": "3rd_lab_assignment_AI_translated.ipynb",
      "provenance": []
    },
    "kernelspec": {
      "name": "python3",
      "display_name": "Python 3"
    },
    "language_info": {
      "name": "python"
    }
  },
  "cells": [
    {
      "cell_type": "markdown",
      "source": [
        "3rd Lab Assignment in Artificial Inteligence \n",
        "\n",
        "Kolovos Leonidas 03113058"
      ],
      "metadata": {
        "id": "0zOlmWgJq-RP"
      }
    },
    {
      "cell_type": "markdown",
      "source": [
        "In this exercise, various machine learning algorithms will be implemented for the automatic recognition between 3 types of music from the data provided by the Spotify service. Specifically, two sets of data will be given $$Ζ_{train}=\\{(x_1,y_1),\\dots,(x_n,y_n)\\}$$ $$Z_{test} = \\{(x_j,y_j),\\dots{,(x_k,y_k)}\\}$$ where each $x_i\\in{\\mathbb{R}^p}$ is a vector with the musical characteristics of each track (such as dancability, acousticness etc.) and $y_i$ is the type of piece - an integer at $ [0.2] $. In each case we are required to draw a classifier, ie an illustration $$f:\\mathbb{R}^p\\rightarrow{[0,2]}$$\n",
        "\n"
      ],
      "metadata": {
        "id": "axZWYRc4nHkh"
      }
    },
    {
      "cell_type": "markdown",
      "source": [
        "\n",
        "# Part 1: Evaluation\n",
        "\n",
        "In the first part of the exercise, functions will be implemented that will be used to evaluate the classifiers that will be used in the following parts.\n",
        "\n",
        "Below you we create the Evaluate class, which calculates various metrics using the get_metrics method, locates and sorts objects that were erroneously sorted (get_sample_of_wrong method), and calculates the confusion matrix where the classifier predictions are visualized by category.\n",
        "\n",
        "For this part we implement in the my_accuracy method the metric accuracy, which is defined as: \n",
        "\n",
        "$$accuracy = \\frac{\\#correct\\_predictions}{\\#data}$$\n",
        "\n"
      ],
      "metadata": {
        "id": "THqMLfVooDW0"
      }
    },
    {
      "cell_type": "code",
      "source": [
        "from sklearn.metrics import confusion_matrix, f1_score, precision_score, recall_score\n",
        "from matplotlib import pyplot as plt\n",
        "import numpy as np\n",
        "import random\n",
        "\n",
        "class Evaluate:\n",
        "    def __init__(self, y_true, y_pred):\n",
        "        self.y_true = y_true\n",
        "        self.y_pred = y_pred\n",
        "\n",
        "    def my_accuracy(self):\n",
        "      y_true = self.y_true\n",
        "      y_pred = self.y_pred\n",
        "      \n",
        "\n",
        "      y_true = np.array(y_true)\n",
        "      y_pred = np.array(y_pred)\n",
        "      acc=np.sum(y_true==y_pred)/y_pred.shape[0]\n",
        "\n",
        "      return acc\n",
        "\n",
        "    def get_metrics(self):\n",
        "        precision = precision_score(self.y_true, self.y_pred, average = \"macro\")\n",
        "        recall = recall_score(self.y_true, self.y_pred, average = \"macro\")\n",
        "        f1 = f1_score(self.y_true, self.y_pred, average = \"macro\")\n",
        "        results = {\"precision\": precision, \"recall\": recall, \"f1\": f1, \"accuracy\": self.my_accuracy()}\n",
        "        return results   \n",
        "    \n",
        "    def confusion_matrix(self):\n",
        "        cm = confusion_matrix(self.y_true, self.y_pred)\n",
        "        return cm \n",
        "\n",
        "    def get_evaluation_report(self):\n",
        "        metrics = self.get_metrics()\n",
        "        for m in metrics:\n",
        "            print(m + ': ' + str(metrics[m]))\n",
        "        cm = self.confusion_matrix()\n",
        "        print(\"Confusion matrix: \")\n",
        "        print(cm)"
      ],
      "metadata": {
        "id": "3k1_XEjNpTx4"
      },
      "execution_count": null,
      "outputs": []
    },
    {
      "cell_type": "markdown",
      "source": [
        "Example of using the class. Normally at x there will be data from the dataset."
      ],
      "metadata": {
        "id": "0tCUlPpPph8X"
      }
    },
    {
      "cell_type": "code",
      "source": [
        "y_true = [1, 0, 1, 0, 0, 1, 1, 0]\n",
        "y_pred = [1, 0, 1, 0, 1, 1, 0, 0]\n",
        "\n",
        "eval = Evaluate(y_true, y_pred)\n",
        "eval.get_evaluation_report()"
      ],
      "metadata": {
        "colab": {
          "base_uri": "https://localhost:8080/"
        },
        "id": "Rnqd5-v4pivJ",
        "outputId": "4d1b216b-2245-485f-c22a-508d5b68b18c"
      },
      "execution_count": null,
      "outputs": [
        {
          "output_type": "stream",
          "name": "stdout",
          "text": [
            "precision: 0.75\n",
            "recall: 0.75\n",
            "f1: 0.75\n",
            "accuracy: 0.75\n",
            "Confusion matrix: \n",
            "[[3 1]\n",
            " [1 3]]\n"
          ]
        }
      ]
    },
    {
      "cell_type": "markdown",
      "source": [
        "# Dataset\n",
        "\n",
        "The dataset given to us contains a variety of music tracks for which various characteristics have been recorded, as well as the musical genre to which they belong. In this exercise we will work with a subset of (numerical) characteristics, which contribute to the definition of the music category of each track.\n",
        "\n",
        "The characteristics that we will study in this exercise are acousticness\", \"danceability\", \"energy\", \"instrumentalness\", \"liveness\", \"speechiness\" while the categories in which we are called to classify the music tracks are \"Electronic\", \"Rock\", and \"Rap\"."
      ],
      "metadata": {
        "id": "oXuOQPOdpnKu"
      }
    },
    {
      "cell_type": "code",
      "source": [
        "#Connect Google Colab with Google Drive\n",
        "\n",
        "from google.colab import drive\n",
        "drive.mount('/content/drive')"
      ],
      "metadata": {
        "colab": {
          "base_uri": "https://localhost:8080/"
        },
        "id": "G01cTunNqFmJ",
        "outputId": "4e6e5cc9-4bbe-4433-c2bb-39e2fe5676bc"
      },
      "execution_count": null,
      "outputs": [
        {
          "output_type": "stream",
          "name": "stdout",
          "text": [
            "Mounted at /content/drive\n"
          ]
        }
      ]
    },
    {
      "cell_type": "markdown",
      "source": [
        "We will use the DataFrames of the pandas library to manipulate our data."
      ],
      "metadata": {
        "id": "xVjEr5Vrqboj"
      }
    },
    {
      "cell_type": "code",
      "source": [
        "import pandas as pd\n",
        "from tqdm.notebook import tqdm "
      ],
      "metadata": {
        "id": "135U2rt7qcaj"
      },
      "execution_count": null,
      "outputs": []
    },
    {
      "cell_type": "code",
      "source": [
        "# read data in the form of pandas DataFrame\n",
        "data = pd.read_csv(\"/content/drive/MyDrive/AI/music_df_processed.csv\")\n",
        "\n",
        "# print the first 5 values of the DataFrame using .head() command\n",
        "data.head()\n"
      ],
      "metadata": {
        "colab": {
          "base_uri": "https://localhost:8080/",
          "height": 322
        },
        "id": "cBGozlM2qezb",
        "outputId": "eecfd74a-230b-462b-b6e2-5ace4cdb0a9b"
      },
      "execution_count": null,
      "outputs": [
        {
          "output_type": "execute_result",
          "data": {
            "text/html": [
              "\n",
              "  <div id=\"df-a08c8ca4-6f8f-4128-b9ec-3869a6bf2bd8\">\n",
              "    <div class=\"colab-df-container\">\n",
              "      <div>\n",
              "<style scoped>\n",
              "    .dataframe tbody tr th:only-of-type {\n",
              "        vertical-align: middle;\n",
              "    }\n",
              "\n",
              "    .dataframe tbody tr th {\n",
              "        vertical-align: top;\n",
              "    }\n",
              "\n",
              "    .dataframe thead th {\n",
              "        text-align: right;\n",
              "    }\n",
              "</style>\n",
              "<table border=\"1\" class=\"dataframe\">\n",
              "  <thead>\n",
              "    <tr style=\"text-align: right;\">\n",
              "      <th></th>\n",
              "      <th>instance_id</th>\n",
              "      <th>artist_name</th>\n",
              "      <th>track_name</th>\n",
              "      <th>popularity</th>\n",
              "      <th>acousticness</th>\n",
              "      <th>danceability</th>\n",
              "      <th>duration_ms</th>\n",
              "      <th>energy</th>\n",
              "      <th>instrumentalness</th>\n",
              "      <th>key</th>\n",
              "      <th>liveness</th>\n",
              "      <th>loudness</th>\n",
              "      <th>mode</th>\n",
              "      <th>speechiness</th>\n",
              "      <th>tempo</th>\n",
              "      <th>obtained_date</th>\n",
              "      <th>valence</th>\n",
              "      <th>music_genre</th>\n",
              "    </tr>\n",
              "  </thead>\n",
              "  <tbody>\n",
              "    <tr>\n",
              "      <th>0</th>\n",
              "      <td>32894.0</td>\n",
              "      <td>Röyksopp</td>\n",
              "      <td>Röyksopp's Night Out</td>\n",
              "      <td>27.0</td>\n",
              "      <td>0.00468</td>\n",
              "      <td>0.652</td>\n",
              "      <td>-1.0</td>\n",
              "      <td>0.941</td>\n",
              "      <td>0.79200</td>\n",
              "      <td>A#</td>\n",
              "      <td>0.115</td>\n",
              "      <td>-5.201</td>\n",
              "      <td>Minor</td>\n",
              "      <td>0.0748</td>\n",
              "      <td>100.889</td>\n",
              "      <td>4-Apr</td>\n",
              "      <td>0.759</td>\n",
              "      <td>Electronic</td>\n",
              "    </tr>\n",
              "    <tr>\n",
              "      <th>1</th>\n",
              "      <td>46652.0</td>\n",
              "      <td>Thievery Corporation</td>\n",
              "      <td>The Shining Path</td>\n",
              "      <td>31.0</td>\n",
              "      <td>0.01270</td>\n",
              "      <td>0.622</td>\n",
              "      <td>218293.0</td>\n",
              "      <td>0.890</td>\n",
              "      <td>0.95000</td>\n",
              "      <td>D</td>\n",
              "      <td>0.124</td>\n",
              "      <td>-7.043</td>\n",
              "      <td>Minor</td>\n",
              "      <td>0.0300</td>\n",
              "      <td>115.002</td>\n",
              "      <td>4-Apr</td>\n",
              "      <td>0.531</td>\n",
              "      <td>Electronic</td>\n",
              "    </tr>\n",
              "    <tr>\n",
              "      <th>2</th>\n",
              "      <td>30097.0</td>\n",
              "      <td>Dillon Francis</td>\n",
              "      <td>Hurricane</td>\n",
              "      <td>28.0</td>\n",
              "      <td>0.00306</td>\n",
              "      <td>0.620</td>\n",
              "      <td>215613.0</td>\n",
              "      <td>0.755</td>\n",
              "      <td>0.01180</td>\n",
              "      <td>G#</td>\n",
              "      <td>0.534</td>\n",
              "      <td>-4.617</td>\n",
              "      <td>Major</td>\n",
              "      <td>0.0345</td>\n",
              "      <td>127.994</td>\n",
              "      <td>4-Apr</td>\n",
              "      <td>0.333</td>\n",
              "      <td>Electronic</td>\n",
              "    </tr>\n",
              "    <tr>\n",
              "      <th>3</th>\n",
              "      <td>62177.0</td>\n",
              "      <td>Dubloadz</td>\n",
              "      <td>Nitro</td>\n",
              "      <td>34.0</td>\n",
              "      <td>0.02540</td>\n",
              "      <td>0.774</td>\n",
              "      <td>166875.0</td>\n",
              "      <td>0.700</td>\n",
              "      <td>0.00253</td>\n",
              "      <td>C#</td>\n",
              "      <td>0.157</td>\n",
              "      <td>-4.498</td>\n",
              "      <td>Major</td>\n",
              "      <td>0.2390</td>\n",
              "      <td>128.014</td>\n",
              "      <td>4-Apr</td>\n",
              "      <td>0.270</td>\n",
              "      <td>Electronic</td>\n",
              "    </tr>\n",
              "    <tr>\n",
              "      <th>4</th>\n",
              "      <td>24907.0</td>\n",
              "      <td>What So Not</td>\n",
              "      <td>Divide &amp; Conquer</td>\n",
              "      <td>32.0</td>\n",
              "      <td>0.00465</td>\n",
              "      <td>0.638</td>\n",
              "      <td>222369.0</td>\n",
              "      <td>0.587</td>\n",
              "      <td>0.90900</td>\n",
              "      <td>F#</td>\n",
              "      <td>0.157</td>\n",
              "      <td>-6.266</td>\n",
              "      <td>Major</td>\n",
              "      <td>0.0413</td>\n",
              "      <td>145.036</td>\n",
              "      <td>4-Apr</td>\n",
              "      <td>0.323</td>\n",
              "      <td>Electronic</td>\n",
              "    </tr>\n",
              "  </tbody>\n",
              "</table>\n",
              "</div>\n",
              "      <button class=\"colab-df-convert\" onclick=\"convertToInteractive('df-a08c8ca4-6f8f-4128-b9ec-3869a6bf2bd8')\"\n",
              "              title=\"Convert this dataframe to an interactive table.\"\n",
              "              style=\"display:none;\">\n",
              "        \n",
              "  <svg xmlns=\"http://www.w3.org/2000/svg\" height=\"24px\"viewBox=\"0 0 24 24\"\n",
              "       width=\"24px\">\n",
              "    <path d=\"M0 0h24v24H0V0z\" fill=\"none\"/>\n",
              "    <path d=\"M18.56 5.44l.94 2.06.94-2.06 2.06-.94-2.06-.94-.94-2.06-.94 2.06-2.06.94zm-11 1L8.5 8.5l.94-2.06 2.06-.94-2.06-.94L8.5 2.5l-.94 2.06-2.06.94zm10 10l.94 2.06.94-2.06 2.06-.94-2.06-.94-.94-2.06-.94 2.06-2.06.94z\"/><path d=\"M17.41 7.96l-1.37-1.37c-.4-.4-.92-.59-1.43-.59-.52 0-1.04.2-1.43.59L10.3 9.45l-7.72 7.72c-.78.78-.78 2.05 0 2.83L4 21.41c.39.39.9.59 1.41.59.51 0 1.02-.2 1.41-.59l7.78-7.78 2.81-2.81c.8-.78.8-2.07 0-2.86zM5.41 20L4 18.59l7.72-7.72 1.47 1.35L5.41 20z\"/>\n",
              "  </svg>\n",
              "      </button>\n",
              "      \n",
              "  <style>\n",
              "    .colab-df-container {\n",
              "      display:flex;\n",
              "      flex-wrap:wrap;\n",
              "      gap: 12px;\n",
              "    }\n",
              "\n",
              "    .colab-df-convert {\n",
              "      background-color: #E8F0FE;\n",
              "      border: none;\n",
              "      border-radius: 50%;\n",
              "      cursor: pointer;\n",
              "      display: none;\n",
              "      fill: #1967D2;\n",
              "      height: 32px;\n",
              "      padding: 0 0 0 0;\n",
              "      width: 32px;\n",
              "    }\n",
              "\n",
              "    .colab-df-convert:hover {\n",
              "      background-color: #E2EBFA;\n",
              "      box-shadow: 0px 1px 2px rgba(60, 64, 67, 0.3), 0px 1px 3px 1px rgba(60, 64, 67, 0.15);\n",
              "      fill: #174EA6;\n",
              "    }\n",
              "\n",
              "    [theme=dark] .colab-df-convert {\n",
              "      background-color: #3B4455;\n",
              "      fill: #D2E3FC;\n",
              "    }\n",
              "\n",
              "    [theme=dark] .colab-df-convert:hover {\n",
              "      background-color: #434B5C;\n",
              "      box-shadow: 0px 1px 3px 1px rgba(0, 0, 0, 0.15);\n",
              "      filter: drop-shadow(0px 1px 2px rgba(0, 0, 0, 0.3));\n",
              "      fill: #FFFFFF;\n",
              "    }\n",
              "  </style>\n",
              "\n",
              "      <script>\n",
              "        const buttonEl =\n",
              "          document.querySelector('#df-a08c8ca4-6f8f-4128-b9ec-3869a6bf2bd8 button.colab-df-convert');\n",
              "        buttonEl.style.display =\n",
              "          google.colab.kernel.accessAllowed ? 'block' : 'none';\n",
              "\n",
              "        async function convertToInteractive(key) {\n",
              "          const element = document.querySelector('#df-a08c8ca4-6f8f-4128-b9ec-3869a6bf2bd8');\n",
              "          const dataTable =\n",
              "            await google.colab.kernel.invokeFunction('convertToInteractive',\n",
              "                                                     [key], {});\n",
              "          if (!dataTable) return;\n",
              "\n",
              "          const docLinkHtml = 'Like what you see? Visit the ' +\n",
              "            '<a target=\"_blank\" href=https://colab.research.google.com/notebooks/data_table.ipynb>data table notebook</a>'\n",
              "            + ' to learn more about interactive tables.';\n",
              "          element.innerHTML = '';\n",
              "          dataTable['output_type'] = 'display_data';\n",
              "          await google.colab.output.renderOutput(dataTable, element);\n",
              "          const docLink = document.createElement('div');\n",
              "          docLink.innerHTML = docLinkHtml;\n",
              "          element.appendChild(docLink);\n",
              "        }\n",
              "      </script>\n",
              "    </div>\n",
              "  </div>\n",
              "  "
            ],
            "text/plain": [
              "   instance_id           artist_name  ... valence  music_genre\n",
              "0      32894.0              Röyksopp  ...   0.759   Electronic\n",
              "1      46652.0  Thievery Corporation  ...   0.531   Electronic\n",
              "2      30097.0        Dillon Francis  ...   0.333   Electronic\n",
              "3      62177.0              Dubloadz  ...   0.270   Electronic\n",
              "4      24907.0           What So Not  ...   0.323   Electronic\n",
              "\n",
              "[5 rows x 18 columns]"
            ]
          },
          "metadata": {},
          "execution_count": 8
        }
      ]
    },
    {
      "cell_type": "code",
      "source": [
        "data.describe()"
      ],
      "metadata": {
        "colab": {
          "base_uri": "https://localhost:8080/",
          "height": 364
        },
        "id": "aEYPT4I9qpRf",
        "outputId": "29ab5e71-26c5-47f2-e6df-54296dfe67b7"
      },
      "execution_count": null,
      "outputs": [
        {
          "output_type": "execute_result",
          "data": {
            "text/html": [
              "\n",
              "  <div id=\"df-b9a01755-22b3-4d0e-b894-a12e5ac1957e\">\n",
              "    <div class=\"colab-df-container\">\n",
              "      <div>\n",
              "<style scoped>\n",
              "    .dataframe tbody tr th:only-of-type {\n",
              "        vertical-align: middle;\n",
              "    }\n",
              "\n",
              "    .dataframe tbody tr th {\n",
              "        vertical-align: top;\n",
              "    }\n",
              "\n",
              "    .dataframe thead th {\n",
              "        text-align: right;\n",
              "    }\n",
              "</style>\n",
              "<table border=\"1\" class=\"dataframe\">\n",
              "  <thead>\n",
              "    <tr style=\"text-align: right;\">\n",
              "      <th></th>\n",
              "      <th>instance_id</th>\n",
              "      <th>popularity</th>\n",
              "      <th>acousticness</th>\n",
              "      <th>danceability</th>\n",
              "      <th>duration_ms</th>\n",
              "      <th>energy</th>\n",
              "      <th>instrumentalness</th>\n",
              "      <th>liveness</th>\n",
              "      <th>loudness</th>\n",
              "      <th>speechiness</th>\n",
              "      <th>tempo</th>\n",
              "      <th>valence</th>\n",
              "    </tr>\n",
              "  </thead>\n",
              "  <tbody>\n",
              "    <tr>\n",
              "      <th>count</th>\n",
              "      <td>45020.000000</td>\n",
              "      <td>45020.000000</td>\n",
              "      <td>45020.000000</td>\n",
              "      <td>45020.000000</td>\n",
              "      <td>4.502000e+04</td>\n",
              "      <td>45020.000000</td>\n",
              "      <td>45020.000000</td>\n",
              "      <td>45020.000000</td>\n",
              "      <td>45020.000000</td>\n",
              "      <td>45020.000000</td>\n",
              "      <td>45020.000000</td>\n",
              "      <td>45020.000000</td>\n",
              "    </tr>\n",
              "    <tr>\n",
              "      <th>mean</th>\n",
              "      <td>55884.691892</td>\n",
              "      <td>44.263327</td>\n",
              "      <td>0.306596</td>\n",
              "      <td>0.558532</td>\n",
              "      <td>2.211695e+05</td>\n",
              "      <td>0.599553</td>\n",
              "      <td>0.181843</td>\n",
              "      <td>0.193951</td>\n",
              "      <td>-9.137016</td>\n",
              "      <td>0.093783</td>\n",
              "      <td>119.952961</td>\n",
              "      <td>0.456394</td>\n",
              "    </tr>\n",
              "    <tr>\n",
              "      <th>std</th>\n",
              "      <td>20728.197040</td>\n",
              "      <td>15.553972</td>\n",
              "      <td>0.341391</td>\n",
              "      <td>0.178858</td>\n",
              "      <td>1.276884e+05</td>\n",
              "      <td>0.264510</td>\n",
              "      <td>0.325847</td>\n",
              "      <td>0.161715</td>\n",
              "      <td>6.156400</td>\n",
              "      <td>0.101469</td>\n",
              "      <td>30.641701</td>\n",
              "      <td>0.247161</td>\n",
              "    </tr>\n",
              "    <tr>\n",
              "      <th>min</th>\n",
              "      <td>20002.000000</td>\n",
              "      <td>0.000000</td>\n",
              "      <td>0.000000</td>\n",
              "      <td>0.059600</td>\n",
              "      <td>-1.000000e+00</td>\n",
              "      <td>0.000792</td>\n",
              "      <td>0.000000</td>\n",
              "      <td>0.009670</td>\n",
              "      <td>-47.046000</td>\n",
              "      <td>0.022300</td>\n",
              "      <td>34.347000</td>\n",
              "      <td>0.000000</td>\n",
              "    </tr>\n",
              "    <tr>\n",
              "      <th>25%</th>\n",
              "      <td>38000.750000</td>\n",
              "      <td>34.000000</td>\n",
              "      <td>0.020100</td>\n",
              "      <td>0.442000</td>\n",
              "      <td>1.747230e+05</td>\n",
              "      <td>0.432000</td>\n",
              "      <td>0.000000</td>\n",
              "      <td>0.096900</td>\n",
              "      <td>-10.860000</td>\n",
              "      <td>0.036100</td>\n",
              "      <td>94.941500</td>\n",
              "      <td>0.257000</td>\n",
              "    </tr>\n",
              "    <tr>\n",
              "      <th>50%</th>\n",
              "      <td>55857.500000</td>\n",
              "      <td>45.000000</td>\n",
              "      <td>0.145000</td>\n",
              "      <td>0.568000</td>\n",
              "      <td>2.194385e+05</td>\n",
              "      <td>0.642000</td>\n",
              "      <td>0.000159</td>\n",
              "      <td>0.126000</td>\n",
              "      <td>-7.284000</td>\n",
              "      <td>0.048900</td>\n",
              "      <td>119.879000</td>\n",
              "      <td>0.448000</td>\n",
              "    </tr>\n",
              "    <tr>\n",
              "      <th>75%</th>\n",
              "      <td>73856.500000</td>\n",
              "      <td>56.000000</td>\n",
              "      <td>0.551000</td>\n",
              "      <td>0.687000</td>\n",
              "      <td>2.686400e+05</td>\n",
              "      <td>0.815250</td>\n",
              "      <td>0.154000</td>\n",
              "      <td>0.244000</td>\n",
              "      <td>-5.177000</td>\n",
              "      <td>0.098800</td>\n",
              "      <td>140.471250</td>\n",
              "      <td>0.648000</td>\n",
              "    </tr>\n",
              "    <tr>\n",
              "      <th>max</th>\n",
              "      <td>91759.000000</td>\n",
              "      <td>99.000000</td>\n",
              "      <td>0.996000</td>\n",
              "      <td>0.986000</td>\n",
              "      <td>4.497994e+06</td>\n",
              "      <td>0.999000</td>\n",
              "      <td>0.996000</td>\n",
              "      <td>1.000000</td>\n",
              "      <td>3.744000</td>\n",
              "      <td>0.942000</td>\n",
              "      <td>220.276000</td>\n",
              "      <td>0.992000</td>\n",
              "    </tr>\n",
              "  </tbody>\n",
              "</table>\n",
              "</div>\n",
              "      <button class=\"colab-df-convert\" onclick=\"convertToInteractive('df-b9a01755-22b3-4d0e-b894-a12e5ac1957e')\"\n",
              "              title=\"Convert this dataframe to an interactive table.\"\n",
              "              style=\"display:none;\">\n",
              "        \n",
              "  <svg xmlns=\"http://www.w3.org/2000/svg\" height=\"24px\"viewBox=\"0 0 24 24\"\n",
              "       width=\"24px\">\n",
              "    <path d=\"M0 0h24v24H0V0z\" fill=\"none\"/>\n",
              "    <path d=\"M18.56 5.44l.94 2.06.94-2.06 2.06-.94-2.06-.94-.94-2.06-.94 2.06-2.06.94zm-11 1L8.5 8.5l.94-2.06 2.06-.94-2.06-.94L8.5 2.5l-.94 2.06-2.06.94zm10 10l.94 2.06.94-2.06 2.06-.94-2.06-.94-.94-2.06-.94 2.06-2.06.94z\"/><path d=\"M17.41 7.96l-1.37-1.37c-.4-.4-.92-.59-1.43-.59-.52 0-1.04.2-1.43.59L10.3 9.45l-7.72 7.72c-.78.78-.78 2.05 0 2.83L4 21.41c.39.39.9.59 1.41.59.51 0 1.02-.2 1.41-.59l7.78-7.78 2.81-2.81c.8-.78.8-2.07 0-2.86zM5.41 20L4 18.59l7.72-7.72 1.47 1.35L5.41 20z\"/>\n",
              "  </svg>\n",
              "      </button>\n",
              "      \n",
              "  <style>\n",
              "    .colab-df-container {\n",
              "      display:flex;\n",
              "      flex-wrap:wrap;\n",
              "      gap: 12px;\n",
              "    }\n",
              "\n",
              "    .colab-df-convert {\n",
              "      background-color: #E8F0FE;\n",
              "      border: none;\n",
              "      border-radius: 50%;\n",
              "      cursor: pointer;\n",
              "      display: none;\n",
              "      fill: #1967D2;\n",
              "      height: 32px;\n",
              "      padding: 0 0 0 0;\n",
              "      width: 32px;\n",
              "    }\n",
              "\n",
              "    .colab-df-convert:hover {\n",
              "      background-color: #E2EBFA;\n",
              "      box-shadow: 0px 1px 2px rgba(60, 64, 67, 0.3), 0px 1px 3px 1px rgba(60, 64, 67, 0.15);\n",
              "      fill: #174EA6;\n",
              "    }\n",
              "\n",
              "    [theme=dark] .colab-df-convert {\n",
              "      background-color: #3B4455;\n",
              "      fill: #D2E3FC;\n",
              "    }\n",
              "\n",
              "    [theme=dark] .colab-df-convert:hover {\n",
              "      background-color: #434B5C;\n",
              "      box-shadow: 0px 1px 3px 1px rgba(0, 0, 0, 0.15);\n",
              "      filter: drop-shadow(0px 1px 2px rgba(0, 0, 0, 0.3));\n",
              "      fill: #FFFFFF;\n",
              "    }\n",
              "  </style>\n",
              "\n",
              "      <script>\n",
              "        const buttonEl =\n",
              "          document.querySelector('#df-b9a01755-22b3-4d0e-b894-a12e5ac1957e button.colab-df-convert');\n",
              "        buttonEl.style.display =\n",
              "          google.colab.kernel.accessAllowed ? 'block' : 'none';\n",
              "\n",
              "        async function convertToInteractive(key) {\n",
              "          const element = document.querySelector('#df-b9a01755-22b3-4d0e-b894-a12e5ac1957e');\n",
              "          const dataTable =\n",
              "            await google.colab.kernel.invokeFunction('convertToInteractive',\n",
              "                                                     [key], {});\n",
              "          if (!dataTable) return;\n",
              "\n",
              "          const docLinkHtml = 'Like what you see? Visit the ' +\n",
              "            '<a target=\"_blank\" href=https://colab.research.google.com/notebooks/data_table.ipynb>data table notebook</a>'\n",
              "            + ' to learn more about interactive tables.';\n",
              "          element.innerHTML = '';\n",
              "          dataTable['output_type'] = 'display_data';\n",
              "          await google.colab.output.renderOutput(dataTable, element);\n",
              "          const docLink = document.createElement('div');\n",
              "          docLink.innerHTML = docLinkHtml;\n",
              "          element.appendChild(docLink);\n",
              "        }\n",
              "      </script>\n",
              "    </div>\n",
              "  </div>\n",
              "  "
            ],
            "text/plain": [
              "        instance_id    popularity  ...         tempo       valence\n",
              "count  45020.000000  45020.000000  ...  45020.000000  45020.000000\n",
              "mean   55884.691892     44.263327  ...    119.952961      0.456394\n",
              "std    20728.197040     15.553972  ...     30.641701      0.247161\n",
              "min    20002.000000      0.000000  ...     34.347000      0.000000\n",
              "25%    38000.750000     34.000000  ...     94.941500      0.257000\n",
              "50%    55857.500000     45.000000  ...    119.879000      0.448000\n",
              "75%    73856.500000     56.000000  ...    140.471250      0.648000\n",
              "max    91759.000000     99.000000  ...    220.276000      0.992000\n",
              "\n",
              "[8 rows x 12 columns]"
            ]
          },
          "metadata": {},
          "execution_count": 9
        }
      ]
    },
    {
      "cell_type": "markdown",
      "source": [
        "## Selection of x characteristics and y targets.\n",
        "\n",
        "For reasons of simplicity we choose the features (inputs) and the target categories (genres). Bellow we split the data into a train / test set. The separation is 30% - test set, 70% - train set. y.\n"
      ],
      "metadata": {
        "id": "uLgASzCCqtV4"
      }
    },
    {
      "cell_type": "code",
      "source": [
        "# Characteristics\n",
        "inputs = [\"acousticness\", \"danceability\", \"energy\", \"instrumentalness\", \"liveness\", \"speechiness\"]\n",
        "\n",
        "# Category Targets \n",
        "output = \"music_genre\"\n",
        "genres = [\"Electronic\", \"Rock\", \"Rap\"]\n",
        "\n",
        "# we filter the DataFrame to maintain only the 3 categories that interest us.\n",
        "data = data[data[output].isin(genres)]\n",
        "\n",
        "# dictionary to map genre to label id \n",
        "genres_to_id = {genre: i for i, genre in enumerate(genres)}\n",
        "\n",
        "# here we separate the data into train (70% of the data) / test set (30% of the data)\n",
        "# we name the variables : \n",
        "# the features of the train set: x_train\n",
        "# the target categories of the train set: y_train\n",
        "# the characteristics of the test set: x_test\n",
        "# the target categories of the test set: y_test\n",
        "x_test, y_test, x_train, y_train = [], [], [], []\n",
        "\n",
        "features = data[inputs]\n",
        "labels = data[output]\n",
        "print(features.head())\n",
        "print(labels.head())\n",
        "\n",
        "from sklearn.model_selection import train_test_split\n",
        "\n",
        "X_train, X_test, y_train, y_test = train_test_split(features, labels, test_size=0.3)\n",
        "\n",
        "print(X_train.shape)\n",
        "print(y_train.shape)\n",
        "print(X_test.shape)\n",
        "print(y_test.shape)\n",
        "\n"
      ],
      "metadata": {
        "colab": {
          "base_uri": "https://localhost:8080/"
        },
        "id": "aqh2cZNfrfcI",
        "outputId": "e3412355-5458-4091-d76a-e95e09a8aaeb"
      },
      "execution_count": null,
      "outputs": [
        {
          "output_type": "stream",
          "name": "stdout",
          "text": [
            "   acousticness  danceability  energy  instrumentalness  liveness  speechiness\n",
            "0       0.00468         0.652   0.941           0.79200     0.115       0.0748\n",
            "1       0.01270         0.622   0.890           0.95000     0.124       0.0300\n",
            "2       0.00306         0.620   0.755           0.01180     0.534       0.0345\n",
            "3       0.02540         0.774   0.700           0.00253     0.157       0.2390\n",
            "4       0.00465         0.638   0.587           0.90900     0.157       0.0413\n",
            "0    Electronic\n",
            "1    Electronic\n",
            "2    Electronic\n",
            "3    Electronic\n",
            "4    Electronic\n",
            "Name: music_genre, dtype: object\n",
            "(9471, 6)\n",
            "(9471,)\n",
            "(4060, 6)\n",
            "(4060,)\n"
          ]
        }
      ]
    },
    {
      "cell_type": "code",
      "source": [
        "np.unique(y_train)"
      ],
      "metadata": {
        "colab": {
          "base_uri": "https://localhost:8080/"
        },
        "id": "LG3R380CsE9Z",
        "outputId": "bde3bec6-7319-443c-dd04-d9bf9bf974c3"
      },
      "execution_count": null,
      "outputs": [
        {
          "output_type": "execute_result",
          "data": {
            "text/plain": [
              "array(['Electronic', 'Rap', 'Rock'], dtype=object)"
            ]
          },
          "metadata": {},
          "execution_count": 11
        }
      ]
    },
    {
      "cell_type": "markdown",
      "source": [
        "## Data format\n",
        "\n",
        "We should make sure that our data is in the correct format by printing the number of rows and columns for x_test, y_test, x_train, y_train.\n",
        "\n"
      ],
      "metadata": {
        "id": "2JoelwILsEw5"
      }
    },
    {
      "cell_type": "code",
      "source": [
        "# Shape of x_test, y_test, x_train, y_train\n",
        "\n",
        "\n",
        "print('Number of samples in train set:', X_train.shape[0])\n",
        "print('Number of samples in test set:', X_test.shape[0])\n",
        "print('Number of columns in train set:', X_train.shape[1])\n",
        "print('Number of columns in test set:', X_test.shape[1])\n"
      ],
      "metadata": {
        "colab": {
          "base_uri": "https://localhost:8080/"
        },
        "id": "wMlit3j6sZYc",
        "outputId": "b8d17bee-0f77-49dd-940e-b7e685852f97"
      },
      "execution_count": null,
      "outputs": [
        {
          "output_type": "stream",
          "name": "stdout",
          "text": [
            "Number of samples in train set: 9471\n",
            "Number of samples in test set: 4060\n",
            "Number of columns in train set: 6\n",
            "Number of columns in test set: 6\n"
          ]
        }
      ]
    },
    {
      "cell_type": "markdown",
      "source": [
        "Regarding the values ​​of the features, it is important to know their range, ie the maximum and the minimum value that each feature receives. "
      ],
      "metadata": {
        "id": "0nNYUVV_qtEo"
      }
    },
    {
      "cell_type": "code",
      "source": [
        "# Range of x_train, x_test columns\n",
        "\n",
        "for col in X_train.columns:\n",
        "  max_value = data[col].max()\n",
        "  min_value = data[col].min()\n",
        "\n",
        "  print('Range of values for', col, 'is: [', min_value, ',', max_value, ']')\n"
      ],
      "metadata": {
        "colab": {
          "base_uri": "https://localhost:8080/"
        },
        "id": "pReKIFQzspjm",
        "outputId": "8efa6a1b-d8b9-46d6-cbae-5d49efbd1e38"
      },
      "execution_count": null,
      "outputs": [
        {
          "output_type": "stream",
          "name": "stdout",
          "text": [
            "Range of values for acousticness is: [ 1.39e-06 , 0.9940000000000001 ]\n",
            "Range of values for danceability is: [ 0.0645 , 0.977 ]\n",
            "Range of values for energy is: [ 0.00259 , 0.9990000000000001 ]\n",
            "Range of values for instrumentalness is: [ 0.0 , 0.986 ]\n",
            "Range of values for liveness is: [ 0.0173 , 0.991 ]\n",
            "Range of values for speechiness is: [ 0.0224 , 0.922 ]\n"
          ]
        }
      ]
    },
    {
      "cell_type": "markdown",
      "source": [
        "From the above analysis we can observe that our characteristics have about the same range. Specifically the interval [0, 1] as it results from the min, max. This is important as we ensure that all features will affect the results of the models equally. Otherwise we would have to scale the features."
      ],
      "metadata": {
        "id": "ktLvvAfctJ7a"
      }
    },
    {
      "cell_type": "markdown",
      "source": [
        "# 2nd Part: Implementation of KNN\n",
        "\n",
        "In the second part of the exercise you will implement the KNN algorithm for classification. The design plan for the nearest neighbor classifier k is:\n",
        "- We store all the data ($ Z_ {train} $) in memory\n",
        "  - Data can be stored in a table $ n \\ times {p} $ using numpy\n",
        "- We compare the input with the data and find the nearest k ($ k < n $) based on some distance.\n",
        "- When given a \"fresh\" sample as a vector of $ x_i $ attributes we need a function that calculates the distance $ d (x_i, x_j) $, where $ x_j $ is the vector corresponding to the attributes of a sample of the training data . You will experiment with Euclidean distance and cosine distance. The training data is then sorted by distance from $ x_i $ and the nearest $ k $ are selected.\n",
        "- We give the output the class to which the majority of k closest data belongs.\n",
        "\n",
        "Once the classifier is built we will evaluate its performance on the first 100 samples of $ Z_ {test} $ for some k values ​​you choose, starting at $ k = 1 $.\n",
        "\n",
        "In practice its very rarely needed to implement a machine learning algorithm from scratch, since there are ready-made implementations, e.g. in python packages, which are optimized and easy to use. \n",
        "\n",
        "\n",
        "We should also mention the cosine distance between two vectors u, v is defined as: $$ d (u, v) = 1 - \\ frac {u \\ cdot {v}} {|| u || _2 || v || _2} $$\n"
      ],
      "metadata": {
        "id": "2ZLC6iALtk32"
      }
    },
    {
      "cell_type": "code",
      "source": [
        "from numpy import linalg\n",
        "class KNN:\n",
        "    def __init__(self, x, y, k, distance = \"euclidean\"):\n",
        "        self.x = x\n",
        "        self.y = y\n",
        "        self.k = k\n",
        "        self.distance = distance\n",
        "        \n",
        "    ## Compute the distance between the two vectors (2 rows of the DataFrame)\n",
        "    def get_distance(self, row1, row2):\n",
        "      if self.distance=='euclidean':\n",
        "\n",
        "        row1 = np.array(row1, dtype=np.float32)\n",
        "        row2 = np.array(row2, dtype=np.float32)\n",
        "        dist = linalg.norm(row1-row2)\n",
        "\n",
        "      elif self.distance=='cosine':\n",
        "\n",
        "        row1 = np.array(row1, dtype=np.float32)\n",
        "        row2 = np.array(row2, dtype=np.float32)\n",
        "        dist = 1 - (np.dot(row1, row2) / np.multiply(linalg.norm(row1), linalg.norm(row2)))\n",
        "\n",
        "        pass\n",
        "\n",
        "      return dist\n",
        "\n",
        "    ## Given a DataFrame row as a vector, returns indexes of k nearest neighbors\n",
        "    def get_knn(self, row):\n",
        "      distances = list()\n",
        "      x = self.x\n",
        "      k = self.k\n",
        "      \n",
        "      for sample in x:\n",
        "        dist = self.get_distance(row, sample)\n",
        "        distances.append(dist)\n",
        "\n",
        "\n",
        "      # Sort distances, and return the indexes of k first elements\n",
        "      ans_indexes = np.argsort(distances)[:k]\n",
        "      return ans_indexes\n",
        "\n",
        "    ## Given a DataFrame row as a vector, classify it according to KNN\n",
        "\n",
        "    def classify(self, row):\n",
        "      y = self.y\n",
        "      nn_labels = [y[i] for i in self.get_knn(row)]\n",
        "      \n",
        "      prediction = max(set(nn_labels), key=nn_labels.count)\n",
        "\n",
        "\n",
        "      return prediction\n",
        "\n",
        "\n",
        "knn = KNN(X_train, y_train, k=5, distance='euclidean')"
      ],
      "metadata": {
        "id": "YwBxQGZ6u8xH"
      },
      "execution_count": null,
      "outputs": []
    },
    {
      "cell_type": "markdown",
      "source": [
        "Now that the classifier is ready let's see what it predicts in individual samples."
      ],
      "metadata": {
        "id": "gysKcnf3vMCa"
      }
    },
    {
      "cell_type": "code",
      "execution_count": null,
      "metadata": {
        "id": "tKw0oa1jaJei"
      },
      "outputs": [],
      "source": [
        "X_train = np.array(X_train)\n",
        "X_test = np.array(X_test)\n",
        "y_train = np.array(y_train)\n",
        "y_test = np.array(y_test)\n",
        "\n",
        "preds = [knn.classify(X_test[i]) for i in range(100)]\n",
        "labels = [y_test[i] for i in range(100)]"
      ]
    },
    {
      "cell_type": "code",
      "source": [
        "eval = Evaluate(labels, preds)\n",
        "eval.get_evaluation_report()"
      ],
      "metadata": {
        "colab": {
          "base_uri": "https://localhost:8080/"
        },
        "id": "P68kteL3vMq1",
        "outputId": "032fef30-a48e-443a-c5a7-018ee73542e5"
      },
      "execution_count": null,
      "outputs": [
        {
          "output_type": "stream",
          "name": "stdout",
          "text": [
            "precision: 0.6481759432978945\n",
            "recall: 0.6372549019607843\n",
            "f1: 0.6258164808889446\n",
            "accuracy: 0.64\n",
            "Confusion matrix: \n",
            "[[14  7 13]\n",
            " [ 0 30  6]\n",
            " [ 6  4 20]]\n"
          ]
        }
      ]
    },
    {
      "cell_type": "markdown",
      "source": [
        "## Ready KNN classifier\n",
        "\n",
        "As with most machine learning algorithms, there are ready-made optimized implementations.\n",
        "Below is an example of using the KNN classifier provided by the sklearn library ([documentation] (https://scikit-learn.org/stable/modules/generated/sklearn.neighbors.KNeighborsClassifier.html)).\n"
      ],
      "metadata": {
        "id": "th_muG91xjh6"
      }
    },
    {
      "cell_type": "code",
      "source": [
        "from sklearn.neighbors import KNeighborsClassifier\n",
        "\n",
        "k = 5\n",
        "knc = KNeighborsClassifier(n_neighbors = k)\n",
        "knc.fit(X_train, y_train)\n",
        "y_pred = knc.predict(X_test[:100])\n",
        "\n",
        "eval = Evaluate(y_test[:100], y_pred)\n",
        "eval.get_evaluation_report()"
      ],
      "metadata": {
        "colab": {
          "base_uri": "https://localhost:8080/"
        },
        "id": "if-L6RcExjQA",
        "outputId": "353e425d-598e-4152-dd0a-896040b839ed"
      },
      "execution_count": null,
      "outputs": [
        {
          "output_type": "stream",
          "name": "stdout",
          "text": [
            "precision: 0.6384582256675279\n",
            "recall: 0.6354030501089324\n",
            "f1: 0.6232195371435877\n",
            "accuracy: 0.64\n",
            "Confusion matrix: \n",
            "[[14  8 12]\n",
            " [ 0 31  5]\n",
            " [ 7  4 19]]\n"
          ]
        }
      ]
    },
    {
      "cell_type": "markdown",
      "source": [
        "## Comparison of implementations\n",
        "\n",
        "In the following cells, we experiment with the two implementations (ours and the ready one). We make sure that the same results are obtained for different values ​​of k (for Euclidean distances) and we measure the execution times."
      ],
      "metadata": {
        "id": "wBgVbJF6yOh-"
      }
    },
    {
      "cell_type": "markdown",
      "source": [
        "For the execution times for k = 5 we run the following 3 cells:"
      ],
      "metadata": {
        "id": "cj7QF3HMyeov"
      }
    },
    {
      "cell_type": "code",
      "source": [
        "%%time\n",
        "knn = KNN(X_train, y_train, k = 5, distance = 'euclidean')\n",
        "preds = [knn.classify(X_test[i]) for i in range(100)]"
      ],
      "metadata": {
        "colab": {
          "base_uri": "https://localhost:8080/"
        },
        "id": "lY-PbHEnyeZX",
        "outputId": "036d6a4f-1b27-42bb-d4d5-931c14019cd4"
      },
      "execution_count": null,
      "outputs": [
        {
          "output_type": "stream",
          "name": "stdout",
          "text": [
            "CPU times: user 8.82 s, sys: 79.1 ms, total: 8.9 s\n",
            "Wall time: 8.81 s\n"
          ]
        }
      ]
    },
    {
      "cell_type": "code",
      "source": [
        "%%time\n",
        "knn = KNN(X_train, y_train, k = 5, distance = 'cosine')\n",
        "preds = [knn.classify(X_test[i]) for i in range(5)]"
      ],
      "metadata": {
        "colab": {
          "base_uri": "https://localhost:8080/"
        },
        "id": "35rsUfX5yoOQ",
        "outputId": "7b2cdb24-8806-4fe6-dfa7-b281171dbb36"
      },
      "execution_count": null,
      "outputs": [
        {
          "output_type": "stream",
          "name": "stdout",
          "text": [
            "CPU times: user 956 ms, sys: 8.76 ms, total: 964 ms\n",
            "Wall time: 963 ms\n"
          ]
        }
      ]
    },
    {
      "cell_type": "code",
      "source": [
        "%%time\n",
        "knc = KNeighborsClassifier(n_neighbors = 5)\n",
        "knc.fit(X_train, y_train)\n",
        "y_pred = knc.predict(X_test[:100])"
      ],
      "metadata": {
        "colab": {
          "base_uri": "https://localhost:8080/"
        },
        "id": "tNHHuuPiyo3I",
        "outputId": "e35eaa41-825f-4739-9b48-903ae9d360ef"
      },
      "execution_count": null,
      "outputs": [
        {
          "output_type": "stream",
          "name": "stdout",
          "text": [
            "CPU times: user 24.8 ms, sys: 0 ns, total: 24.8 ms\n",
            "Wall time: 25.9 ms\n"
          ]
        }
      ]
    },
    {
      "cell_type": "markdown",
      "source": [
        "For the execution times for k = 50 we run the following 3 cells:\n"
      ],
      "metadata": {
        "id": "ykInheVtys-c"
      }
    },
    {
      "cell_type": "code",
      "source": [
        "%%time\n",
        "knn = KNN(X_train, y_train, k = 50, distance = 'euclidean')\n",
        "preds = [knn.classify(X_test[i]) for i in range(100)]"
      ],
      "metadata": {
        "colab": {
          "base_uri": "https://localhost:8080/"
        },
        "id": "BPLwawxYyzeC",
        "outputId": "82125905-9463-4134-f3c2-19f4075a1887"
      },
      "execution_count": null,
      "outputs": [
        {
          "output_type": "stream",
          "name": "stdout",
          "text": [
            "CPU times: user 8.85 s, sys: 108 ms, total: 8.95 s\n",
            "Wall time: 8.87 s\n"
          ]
        }
      ]
    },
    {
      "cell_type": "code",
      "source": [
        "%%time\n",
        "knn = KNN(X_train, y_train, k = 50, distance = 'cosine')\n",
        "preds = [knn.classify(X_test[i]) for i in range(5)]"
      ],
      "metadata": {
        "colab": {
          "base_uri": "https://localhost:8080/"
        },
        "id": "l97595bEy0_d",
        "outputId": "b17ed211-63b0-4a56-84d2-e21dbce7424f"
      },
      "execution_count": null,
      "outputs": [
        {
          "output_type": "stream",
          "name": "stdout",
          "text": [
            "CPU times: user 977 ms, sys: 3.08 ms, total: 981 ms\n",
            "Wall time: 980 ms\n"
          ]
        }
      ]
    },
    {
      "cell_type": "code",
      "source": [
        "%%time\n",
        "knc = KNeighborsClassifier(n_neighbors = 50)\n",
        "knc.fit(X_train, y_train)\n",
        "y_pred = knc.predict(X_test[:100])"
      ],
      "metadata": {
        "colab": {
          "base_uri": "https://localhost:8080/"
        },
        "id": "7nVyOj81y2ZB",
        "outputId": "13f82b1a-67e5-4cbb-de4c-8cdd9605a598"
      },
      "execution_count": null,
      "outputs": [
        {
          "output_type": "stream",
          "name": "stdout",
          "text": [
            "CPU times: user 27.5 ms, sys: 0 ns, total: 27.5 ms\n",
            "Wall time: 28.1 ms\n"
          ]
        }
      ]
    },
    {
      "cell_type": "markdown",
      "source": [
        "## Comment\n",
        "We observe that the classifier achieves satisfactory accuracy in its predictions. The accuracy of from scratch and the ready classifier is similar but the speed of training and predicting the ready is significantly higher. This is due to the existence of a loop in our implementation.\n"
      ],
      "metadata": {
        "id": "XyF-FAhqy7RO"
      }
    },
    {
      "cell_type": "markdown",
      "source": [
        "# Part 3: Naive Bayes\n",
        "In the third part of the exercise you will implement the Naive Bayes algorithm. Let's remember from the slides:\n",
        "\n",
        "** Assumptions: **\n",
        "\n",
        "- The attributes are boolean instead of continuous, ie they get two values ​​0 or 1. Therefore, we need to modify the attributes of our dataset.\n",
        "  - For this problem we can 'break' the values ​​of each attribute into N different bins. For example, for a characteristic whose values ​​range in [0, 1], for N = 5, we will have the following bins: [0, 0.2), [0.2, 0.4), [0.4, 0.6), [0.6, 0.8), [0.8, 1]. (That's why in the previous steps we mentioned that it is important to have our characteristics in [0, 1]!)\n",
        "  - The probability of an element with characteristics x belonging to class i is given by the formula:\n",
        "$$p(i|x)=\\frac{p(i)\\cdot{\\prod_{k=1}^p}p(x^{(k)}|i)}{\\sum_{j=1}^pp(x^{(k)}|j)}$$\n",
        "\n",
        "\n",
        "\n",
        "- To classify a vector of x features into a class i we select the class that maximizes the above probability\n",
        "  - For comparison we can ignore the denominator, since for all classes it will be the same\n"
      ],
      "metadata": {
        "id": "55MLeGtSzZNq"
      }
    },
    {
      "cell_type": "code",
      "source": [
        "#make each variable of the training set discrete in 5 intervals\n",
        "\n",
        "def discretize(x, num_of_classes = 5):  \n",
        "    x_r = []\n",
        "    for row in x:\n",
        "        discrete = []\n",
        "        for i, feature in enumerate(row):\n",
        "            discrete_feature = [0] * num_of_classes\n",
        "            for j, v in enumerate(np.linspace(0, 1, num_of_classes + 1)):\n",
        "                if float(feature) < v:\n",
        "                    break\n",
        "            discrete_feature[j-1] = 1\n",
        "            discrete += discrete_feature\n",
        "        x_r.append(discrete)\n",
        "    return np.array(x_r)\n",
        "\n",
        "x_train_r = discretize(X_train)\n",
        "x_test_r = discretize(X_test)\n"
      ],
      "metadata": {
        "id": "nyNGS_W30Ezd"
      },
      "execution_count": null,
      "outputs": []
    },
    {
      "cell_type": "markdown",
      "source": [
        "Below we create the NaiveBayes class that implements the algorithm. First we calculate the probability $p(x^{(k)}|i)$ for a vector of $ x $ attributes and a category $ i $ in the compute_probabilities method. Next we will calculate the probability $p(i|x)$in the predict method.\n"
      ],
      "metadata": {
        "id": "NkhW6qMr0c9b"
      }
    },
    {
      "cell_type": "code",
      "source": [
        "class NaiveBayes:\n",
        "    def __init__(self, x, y):\n",
        "        self.x = x\n",
        "        self.y = y\n",
        "        ## pC is a vector with the probability of each class\n",
        "        self.pC = np.zeros((len(genres),))\n",
        "        ## pxC is an array with all probabilities p(xi|C)\n",
        "        self.pxC = np.zeros((x.shape[-1], len(genres)))\n",
        "        ## Compute the probabilities\n",
        "        self.compute_probabilities()\n",
        "\n",
        "    def compute_probabilities(self):\n",
        "        \n",
        "        genre_enc = { 'Electronic':0,\n",
        "                      'Rap':1,\n",
        "                      'Rock':2\n",
        "                    }\n",
        "\n",
        "        y_int = np.vectorize(genre_enc.get)(self.y)\n",
        "\n",
        "        ## Compute p(C) for each class\n",
        "        for label in y_int: self.pC[label] += 1\n",
        "        \n",
        "        self.pC = self.pC / self.y.shape[0]\n",
        "        ## Compute p(xi|C) for each feature xi and class C\n",
        "        for C in range (self.pC.shape[0]):\n",
        "          c_counter = 0\n",
        "          feat_sum_vec = np.zeros(self.x.shape[1])\n",
        "          for i in range (self.x.shape[0]):\n",
        "            if y_int[i] == C:\n",
        "              c_counter +=1\n",
        "              feat_sum_vec = feat_sum_vec + self.x[i]\n",
        "          #feat_sum_vec = feat_sum_vec + np.ones(feat_sum_vec.shape[0])\n",
        "          feat_sum_vec = feat_sum_vec /c_counter\n",
        "          self.pxC[:,C] = feat_sum_vec\n",
        "        \n",
        "\n",
        "\n",
        "    def predict(self, x):\n",
        "        ## ~Probability of x belonging to each class\n",
        "        ## (not actucal probability since we ignore denominator)\n",
        "        pcX = np.ones((len(genres),))\n",
        "        xsize = self.x.shape[-1]\n",
        "\n",
        "        genre_dec = { 0:'Electronic',\n",
        "            1:'Rap',\n",
        "            2:'Rock'\n",
        "          }\n",
        "\n",
        "        for i in range(len(genres)):\n",
        "\n",
        "          #print('Genre', i)\n",
        "          #print(self.pC[i])\n",
        "          #print(self.pxC[:,i])\n",
        "          prod = 1\n",
        "          for j in range(x.shape[0]):\n",
        "            if x[j]: \n",
        "              prod *= self.pxC[j,i]\n",
        "            else:\n",
        "              prod *= 1 - self.pxC[j,i]\n",
        "          pcX[i] = self.pC[i] * prod\n",
        "\n",
        "        return genre_dec[np.argmax(pcX)]"
      ],
      "metadata": {
        "id": "qTiVYd4R0uGU"
      },
      "execution_count": null,
      "outputs": []
    },
    {
      "cell_type": "markdown",
      "source": [
        "## Evaluation of Naive Bayes\n"
      ],
      "metadata": {
        "id": "EH0DaHBW1NKc"
      }
    },
    {
      "cell_type": "code",
      "source": [
        "nb = NaiveBayes(x_train_r, y_train)\n",
        "preds = [nb.predict(i) for i in x_test_r[:100]]\n",
        "eval = Evaluate(y_test[:100], preds)\n",
        "eval.get_evaluation_report()"
      ],
      "metadata": {
        "colab": {
          "base_uri": "https://localhost:8080/"
        },
        "id": "2K064wCi1PhE",
        "outputId": "8e2c2737-5542-49ea-c76f-843d30e4c8f4"
      },
      "execution_count": null,
      "outputs": [
        {
          "output_type": "stream",
          "name": "stdout",
          "text": [
            "precision: 0.6361845551228621\n",
            "recall: 0.6194989106753813\n",
            "f1: 0.6019090915528365\n",
            "accuracy: 0.62\n",
            "Confusion matrix: \n",
            "[[12  9 13]\n",
            " [ 0 29  7]\n",
            " [ 5  4 21]]\n"
          ]
        }
      ]
    },
    {
      "cell_type": "markdown",
      "source": [
        "\n",
        "As with most machine learning algorithms, there are ready-made optimized implementations for Naive Bayes. Below is Gaussian Naive Bayes from Sklearn. In contrast to our implementation, this one also works with continuous data, since it first assumes that each attribute follows a normal distribution ([documentation](https://scikit-learn.org/stable/modules/generated/sklearn.naive_bayes.GaussianNB.html)).\n"
      ],
      "metadata": {
        "id": "i_necUwT1bQF"
      }
    },
    {
      "cell_type": "code",
      "source": [
        "from sklearn.naive_bayes import GaussianNB\n",
        "\n",
        "gnb = GaussianNB()\n",
        "y_pred = gnb.fit(X_train, y_train).predict(X_test[:100])\n",
        "\n",
        "eval = Evaluate(y_test[:100], y_pred)\n",
        "eval.get_evaluation_report()"
      ],
      "metadata": {
        "colab": {
          "base_uri": "https://localhost:8080/"
        },
        "id": "QPXZTaY21yrR",
        "outputId": "ebe238ff-da9a-4a2b-cd78-cdbfbad52f89"
      },
      "execution_count": null,
      "outputs": [
        {
          "output_type": "stream",
          "name": "stdout",
          "text": [
            "precision: 0.6235168485999051\n",
            "recall: 0.5736383442265796\n",
            "f1: 0.5256178420735383\n",
            "accuracy: 0.57\n",
            "Confusion matrix: \n",
            "[[ 6 10 18]\n",
            " [ 0 28  8]\n",
            " [ 2  5 23]]\n"
          ]
        }
      ]
    },
    {
      "cell_type": "markdown",
      "source": [
        "## Comparison of implementations\n",
        "\n",
        "As before we will compare the results and execution times for the two implementations and comment on the performance in each case."
      ],
      "metadata": {
        "id": "gAOEV_ej1_4k"
      }
    },
    {
      "cell_type": "code",
      "execution_count": null,
      "metadata": {
        "id": "Lz-k1DL-bG9v",
        "colab": {
          "base_uri": "https://localhost:8080/"
        },
        "outputId": "844400c7-452f-4f41-eb7d-46d6338acb63"
      },
      "outputs": [
        {
          "output_type": "stream",
          "name": "stdout",
          "text": [
            "CPU times: user 44.5 ms, sys: 0 ns, total: 44.5 ms\n",
            "Wall time: 45 ms\n"
          ]
        }
      ],
      "source": [
        "%%time\n",
        "nb = NaiveBayes(x_train_r,y_train)\n",
        "preds = [ nb.predict(i) for i in x_test_r[:100]]"
      ]
    },
    {
      "cell_type": "code",
      "execution_count": null,
      "metadata": {
        "id": "neUU0A-AW9nc",
        "colab": {
          "base_uri": "https://localhost:8080/"
        },
        "outputId": "41d405b9-efcd-4d0d-e653-e91a60c110a7"
      },
      "outputs": [
        {
          "output_type": "stream",
          "name": "stdout",
          "text": [
            "CPU times: user 16.7 ms, sys: 0 ns, total: 16.7 ms\n",
            "Wall time: 18.7 ms\n"
          ]
        }
      ],
      "source": [
        "%%time\n",
        "gnb = GaussianNB()\n",
        "y_pred = gnb.fit(X_train, y_train).predict(X_test[:100])"
      ]
    },
    {
      "cell_type": "markdown",
      "source": [
        "## Comment\n",
        "\n",
        "We observe that the classifier achieves satisfactory accuracy in its predictions. The accuracy of from scratch and the ready classifier is similar but the speed of training and predicting the ready is significantly higher. This is due to the existence of a for loop in our implementation, while the ready implementation uses only vectorized operations.\n",
        "\n",
        "Naive Bayes acknowledges the independence of features. This is not always the case, however, many times we can get satisfactory results while at the same time gaining in speed."
      ],
      "metadata": {
        "id": "lP-hU4Yz2Lrx"
      }
    },
    {
      "cell_type": "markdown",
      "source": [
        "#Part 4: Multi-Layer Perceptron\n",
        "\n",
        "In the fourth part of the exercise we will build a multilevel neural network. This classifier will be trained to classify samples of music tracks into one of 3 selected classes (Electronic, Rock, Rap). First, we will implement this model using only the numpy library and then you will use a ready-made class to build the same model.\n",
        "\n",
        "Let us remember:\n",
        "\n",
        "Each MLP consists of levels where each of them is divided into the following parts:\n",
        "\n",
        "$$ z(x) = w^Τx + b $$ \n",
        "$$ f(x) = a(z(x))$$ \n",
        "\n",
        "where $w$, $b$ are the weights of the level. Output z(x) is the response of each neuron before the activation function and f(x) after. Each level is connected to a next whose input is the output (with the activation function) of the previous one.\n",
        "\n",
        "First we will implement the neural without using a ready-made class of a library (such as scikit-learn, keras), while then we will build the same system using the scikit-learn library.\n",
        "\n",
        "below we make the basic structure of the level of a multilevel neural network. The following class does not implement a real level (like Dense) but it is used to present the functions of each level.\n",
        "\n",
        "Virtually every level of a neural network must be able to do:\n",
        "\n",
        "1. For an input to calculate the output of each neuron. This is achieved through the forward method which accepts an input as an argument and returns a table with the outputs of each neuron of the level.\n",
        "\n",
        "2. Calculate the changes that must be made to the weights of each level, depending on how well the level results were in reality. This function will help us in the renewal of the burdens of the network and therefore in its proper training. This functionality is achieved through the backward method.\n",
        "\n",
        "The functionality of each level is therefore determined by the function implemented in the forward method. An instance of the following class, therefore, returns as output the input of each neuron (identity function) whenever it does not offer any high functionality."
      ],
      "metadata": {
        "id": "Hew2GQi12eGZ"
      }
    },
    {
      "cell_type": "code",
      "source": [
        "class Layer:\n",
        "    def __init__(self):\n",
        "        \"\"\"Here we can initialize layer parameters (if any) and auxiliary stuff.\"\"\"\n",
        "        # A dummy layer does nothing\n",
        "        pass\n",
        "    \n",
        "    def forward(self, input):\n",
        "        \"\"\"\n",
        "        Takes input data of shape [batch, input_units], returns output data [batch, output_units]\n",
        "        \"\"\"\n",
        "        # A dummy layer just returns whatever it gets as input.\n",
        "        return input\n",
        "\n",
        "    def backward(self, input, grad_output):\n",
        "        # The gradient of a dummy layer is precisely grad_output, but we'll write it more explicitly\n",
        "        num_units = input.shape[1]\n",
        "        \n",
        "        d_layer_d_input = np.eye(num_units)\n",
        "        \n",
        "        return np.dot(grad_output, d_layer_d_input) # chain rule"
      ],
      "metadata": {
        "id": "ipmuX92D2NDb"
      },
      "execution_count": null,
      "outputs": []
    },
    {
      "cell_type": "markdown",
      "source": [
        "At this point it is worth mentioning that for proper network training (on a practical level) the output of each neuron must be separated before and after the activation function. Thus the above method forward of the layer class must calculate the output of the level without the activation function and some other class must calculate the result with it.\n",
        "\n",
        "\n",
        "\n",
        "However, apart from the network training, this separation also helps us significantly during the design phase of the architecture as it allows us to change the activation function without having to change the entire layer class each time. For the above reasons we will treat the activation function as a separate level with its own methods: forward, backward.\n",
        "\n",
        "The following is the class that implements the functionality of the activation function  [ReLU](https://en.wikipedia.org/wiki/Rectifier_(neural_networks)).\n",
        "\n",
        "  \n",
        "\n",
        "By the same logic we can implement any other activation function we want e.g. sigmoid, tanh and so on. and in addition we can alternate them between levels without difficulty.\n"
      ],
      "metadata": {
        "id": "RI0y_4km4T-8"
      }
    },
    {
      "cell_type": "code",
      "source": [
        "class ReLU(Layer):\n",
        "    def __init__(self):\n",
        "        \"\"\"ReLU layer simply applies elementwise rectified linear unit to all inputs\"\"\"\n",
        "        pass\n",
        "    \n",
        "    def forward(self, input):\n",
        "        \"\"\"Apply elementwise ReLU to [batch, input_units] matrix\"\"\"\n",
        "        relu_forward = np.maximum(0, input)\n",
        "        return relu_forward\n",
        "    \n",
        "    def backward(self, input, grad_output):\n",
        "        \"\"\"Compute gradient of loss w.r.t. ReLU input\"\"\"\n",
        "        relu_grad = input > 0\n",
        "        return grad_output*relu_grad"
      ],
      "metadata": {
        "id": "JhtpfkSO4tsw"
      },
      "execution_count": null,
      "outputs": []
    },
    {
      "cell_type": "markdown",
      "source": [
        "The Dense class implements a dense level where the output of each neuron (excluding the activation function) is calculated from the following equation:\n",
        "\n",
        "$ z(x) = w^Τx + b $$ \n",
        "\n",
        "\n",
        "Therefore the network is necessary to maintain the two tables with weights which in the forward method will be used to calculate the output and will be updated by the backward method. These tables are created during the construction of each snapshot and are initialized, the first randomly and the second with zeros."
      ],
      "metadata": {
        "id": "YuNh2wlJ5zhe"
      }
    },
    {
      "cell_type": "code",
      "source": [
        "class Dense(Layer):\n",
        "    def __init__(self, input_units, output_units, learning_rate = 0.1):\n",
        "        self.input_units = input_units\n",
        "        self.output_units = output_units\n",
        "        \n",
        "        self.learning_rate = learning_rate\n",
        "        self.weights = np.random.normal(loc = 0.0, \n",
        "                                        scale = np.sqrt(2 / (input_units + output_units)), \n",
        "                                        size = (input_units, output_units))\n",
        "        self.biases = np.zeros(output_units)\n",
        "        \n",
        "    def forward(self, input):\n",
        "        \"\"\"\n",
        "        Perform an affine transformation:\n",
        "        f(x) = <W*x> + b\n",
        "        \n",
        "        input shape: [number of inputs, input units]\n",
        "        output shape: [number of inputs, output units]\n",
        "        \"\"\"\n",
        "\n",
        "        output = np.dot(input, self.weights) + self.biases\n",
        "        \n",
        "\n",
        "        return output\n",
        "\n",
        "    def backward(self, input, grad_output):\n",
        "        # compute d f / d x = d f / d dense * d dense / d x\n",
        "        # where d dense/ d x = weights transposed\n",
        "        grad_input = np.dot(grad_output, self.weights.T)\n",
        "\n",
        "        # compute gradient w.r.t. weights and biases\n",
        "        grad_weights = np.dot(input.T, grad_output)\n",
        "        grad_biases = grad_output.mean(axis = 0) * input.shape[0]\n",
        "        assert grad_weights.shape == self.weights.shape and grad_biases.shape == self.biases.shape\n",
        "\n",
        "        # Here we perform a stochastic gradient descent step. \n",
        "        self.weights = self.weights - self.learning_rate * grad_weights\n",
        "        self.biases = self.biases - self.learning_rate * grad_biases\n",
        "        return grad_input"
      ],
      "metadata": {
        "id": "bSp-lGhv6ndK"
      },
      "execution_count": null,
      "outputs": []
    },
    {
      "cell_type": "markdown",
      "source": [
        "The following functions are used to enable the network to check how close its results are to the actual (Loss function). Of course there are different such functions depending on the problem that the network is called to solve. The following function is called [softmax](https://en.wikipedia.org/wiki/Softmax_function) and is mainly used in classification problems such as this one. Softmax accepts the last level activations as input and returns a probability distribution for each of the output classes (eg class 0 has a probability of 0.001, class 1 has 0.9 and so on)."
      ],
      "metadata": {
        "id": "0WA0hZMW6xsX"
      }
    },
    {
      "cell_type": "code",
      "source": [
        "def softmax_crossentropy_with_logits(logits, reference_answers):\n",
        "    logits_for_answers = logits[np.arange(len(logits)),reference_answers]\n",
        "    xentropy = - logits_for_answers + np.log(np.sum(np.exp(logits),axis=-1))\n",
        "    return xentropy\n",
        "\n",
        "def grad_softmax_crossentropy_with_logits(logits, reference_answers):\n",
        "    ones_for_answers = np.zeros_like(logits)\n",
        "    ones_for_answers[np.arange(len(logits)),reference_answers] = 1\n",
        "    softmax = np.exp(logits) / np.exp(logits).sum(axis=-1,keepdims=True)\n",
        "    return (- ones_for_answers + softmax) / logits.shape[0]"
      ],
      "metadata": {
        "id": "DzsFV9sH691c"
      },
      "execution_count": null,
      "outputs": []
    },
    {
      "cell_type": "markdown",
      "source": [
        "Having implemented the Dense and ReLU classes we can now construct a class that will define a multilevel neural network (MLP). This network essentially consists of a sequence of Dense levels where each (except the last) is followed by a non-linear activation function (ReLU). As before, this class must contain a forward method which will accept an input (here a flatten image) and return an output (here a 3-probability distribution). It must also contain a fit method, which will train the network given such a set (here of x_train). At this point the backward methods defined for each level are used. Finally, it would be helpful to have a method that converts the output allocation to the return class (predict) for one or more snapshots of the data set.\n",
        "\n",
        "The network as mentioned before consists of a number of Dense levels each of which is followed by a ReLU function. The construction of the levels is done at the moment of creating the network, where as input is a list with the size of each level, together with the size of the input. For example the following code line:\n",
        "``` \n",
        "net = MLP([100, 200, 100, 10], 784)  \n",
        "```\n",
        "builds an MLP which consists of 4 levels with sizes 100, 200, 100, 10. The number of levels as well as the size of each of them is free to be defined by the user.\n",
        "The constructor of the class essentially defines a list which contains each of the levels to be defined, e.g. for the above example the net.network variable contains the following snapshots of the classes:\n",
        "``` \n",
        "[Dense(100), ReLU(), Dense(200), ReLU(), Dense(100), ReLU(), Dense(10)]  \n",
        "``` \n",
        "Therefore the functionality of the network as before must be defined in the forward method.\n"
      ],
      "metadata": {
        "id": "wfWlygP46_yM"
      }
    },
    {
      "cell_type": "code",
      "source": [
        "class MLP:\n",
        "    def __init__(self, shapes, input_dim):\n",
        "        self.shapes = shapes\n",
        "        self.network = [Dense(input_dim, shapes[0])]\n",
        "        self.network.append(ReLU())\n",
        "        for i in range(1, len(self.shapes) - 1):\n",
        "            self.network.append(Dense(shapes[i-1], shapes[i]))\n",
        "            self.network.append(ReLU())\n",
        "        self.network.append(Dense(shapes[i], shapes[-1]))\n",
        "\n",
        "    def forward(self, X):\n",
        "        activations = []\n",
        "        input = X\n",
        "        # Looping through each layer\n",
        "        for l in self.network:\n",
        "            \n",
        "            input = l.forward(input)\n",
        "            activations.append(input)\n",
        "       \n",
        "        assert len(activations) == len(self.network)\n",
        "        return activations\n",
        "\n",
        "    def predict(self,X):\n",
        "        \"\"\"\n",
        "        Predicts the network output for one or more input snapshots\n",
        "        \"\"\"\n",
        "        logits = self.forward(X)[-1]\n",
        "        return logits.argmax(axis = -1)\n",
        "\n",
        "    def fit(self, X, y):\n",
        "        # Get the layer activations\n",
        "        layer_activations = self.forward(X)\n",
        "        layer_inputs = [X]+layer_activations \n",
        "        logits = layer_activations[-1]\n",
        "\n",
        "        # Compute the loss and the initial gradient\n",
        "        loss = softmax_crossentropy_with_logits(logits,y)\n",
        "        loss_grad = grad_softmax_crossentropy_with_logits(logits,y)\n",
        "\n",
        "        # Propagate gradients through the network\n",
        "        # Reverse propogation as this is backprop\n",
        "        for layer_index in range(len(self.network))[::-1]:\n",
        "            layer = self.network[layer_index]\n",
        "            loss_grad = layer.backward(layer_inputs[layer_index],loss_grad) \n",
        "        return np.mean(loss)"
      ],
      "metadata": {
        "id": "1D2gWxvY76ec"
      },
      "execution_count": null,
      "outputs": []
    },
    {
      "cell_type": "markdown",
      "source": [
        "## Evaluation of a Multi-Layer Perceptron\n",
        "\n",
        "Having built the above we are now able to train MLP. This is done by calling the fit method. The following code cell defines the MLP of the above example and trains for 25 seasons. At the end of each season, its results are presented together with a graphic of train and test accuracy."
      ],
      "metadata": {
        "id": "-jys4trK8Py_"
      }
    },
    {
      "cell_type": "code",
      "source": [
        "genre_enc = { 'Electronic':0,\n",
        "              'Rap':1,\n",
        "              'Rock':2\n",
        "            }\n",
        "\n",
        "genre_dec = { 0:'Electronic',\n",
        "            1:'Rap',\n",
        "            2:'Rock'\n",
        "          }\n",
        "\n",
        "y_train_int = np.vectorize(genre_enc.get)(y_train)\n",
        "y_test_int = np.vectorize(genre_enc.get)(y_test)\n",
        "\n",
        "print(y_train.shape, y_test.shape)"
      ],
      "metadata": {
        "colab": {
          "base_uri": "https://localhost:8080/"
        },
        "id": "ov0UFUDm8bUv",
        "outputId": "284fe143-092e-4e00-d228-ded2240da71d"
      },
      "execution_count": null,
      "outputs": [
        {
          "output_type": "stream",
          "name": "stdout",
          "text": [
            "(9471,) (4060,)\n"
          ]
        }
      ]
    },
    {
      "cell_type": "code",
      "source": [
        "from IPython.display import clear_output\n",
        "import numpy as np\n",
        "\n",
        "network = MLP([10, 15, 20, 3], len(inputs))\n",
        "\n",
        "train_log = []\n",
        "val_log = []\n",
        "\n",
        "for epoch in range(25):\n",
        "    network.fit(X_train, y_train_int)   \n",
        "    train_log.append(np.mean(network.predict(X_train) == y_train_int))\n",
        "    val_log.append(np.mean(network.predict(X_test) == y_test_int))\n",
        "    #clear_output()\n",
        "    print(\"Epoch\", epoch)\n",
        "    print(\"Train accuracy:\", train_log[-1])\n",
        "    print(\"Val accuracy:\", val_log[-1])  \n",
        "    plt.plot(train_log,label = 'train accuracy')\n",
        "    plt.plot(val_log,label = 'val accuracy')\n",
        "    plt.legend(loc = 'best')\n",
        "    plt.grid()\n",
        "    plt.show()\n",
        "\n",
        "y_pred = network.predict(X_test)\n",
        "y_pred_names = []\n",
        "for i in range(y_pred.shape[0]):\n",
        "  y_pred_names.append(genre_dec[y_pred[i]])\n",
        "\n",
        "eval = Evaluate(y_test, y_pred_names)\n",
        "eval.get_evaluation_report()"
      ],
      "metadata": {
        "colab": {
          "base_uri": "https://localhost:8080/",
          "height": 1000
        },
        "id": "QuWwiEQL8e8D",
        "outputId": "cba55e1d-7d15-4e46-ac2a-111f725a24d6"
      },
      "execution_count": null,
      "outputs": [
        {
          "output_type": "stream",
          "name": "stdout",
          "text": [
            "Epoch 0\n",
            "Train accuracy: 0.3352338718192377\n",
            "Val accuracy: 0.3413793103448276\n"
          ]
        },
        {
          "output_type": "display_data",
          "data": {
            "image/png": "[encoded data removed]",
            "text/plain": [
              "<Figure size 432x288 with 1 Axes>"
            ]
          },
          "metadata": {
            "needs_background": "light"
          }
        },
        {
          "output_type": "stream",
          "name": "stdout",
          "text": [
            "Epoch 1\n",
            "Train accuracy: 0.33544504276211595\n",
            "Val accuracy: 0.3416256157635468\n"
          ]
        },
        {
          "output_type": "display_data",
          "data": {
            "image/png": "[encoded data removed]",
            "text/plain": [
              "<Figure size 432x288 with 1 Axes>"
            ]
          },
          "metadata": {
            "needs_background": "light"
          }
        },
        {
          "output_type": "stream",
          "name": "stdout",
          "text": [
            "Epoch 2\n",
            "Train accuracy: 0.3359729701193116\n",
            "Val accuracy: 0.34211822660098523\n"
          ]
        },
        {
          "output_type": "display_data",
          "data": {
            "image/png": "[encoded data removed]",
            "text/plain": [
              "<Figure size 432x288 with 1 Axes>"
            ]
          },
          "metadata": {
            "needs_background": "light"
          }
        },
        {
          "output_type": "stream",
          "name": "stdout",
          "text": [
            "Epoch 3\n",
            "Train accuracy: 0.33618414106218986\n",
            "Val accuracy: 0.34334975369458126\n"
          ]
        },
        {
          "output_type": "display_data",
          "data": {
            "image/png": "[encoded data removed]",
            "text/plain": [
              "<Figure size 432x288 with 1 Axes>"
            ]
          },
          "metadata": {
            "needs_background": "light"
          }
        },
        {
          "output_type": "stream",
          "name": "stdout",
          "text": [
            "Epoch 4\n",
            "Train accuracy: 0.33650089747650724\n",
            "Val accuracy: 0.3438423645320197\n"
          ]
        },
        {
          "output_type": "display_data",
          "data": {
            "image/png": "[encoded data removed]",
            "text/plain": [
              "<Figure size 432x288 with 1 Axes>"
            ]
          },
          "metadata": {
            "needs_background": "light"
          }
        },
        {
          "output_type": "stream",
          "name": "stdout",
          "text": [
            "Epoch 5\n",
            "Train accuracy: 0.33681765389082463\n",
            "Val accuracy: 0.34458128078817735\n"
          ]
        },
        {
          "output_type": "display_data",
          "data": {
            "image/png": "[encoded data removed]",
            "text/plain": [
              "<Figure size 432x288 with 1 Axes>"
            ]
          },
          "metadata": {
            "needs_background": "light"
          }
        },
        {
          "output_type": "stream",
          "name": "stdout",
          "text": [
            "Epoch 6\n",
            "Train accuracy: 0.33723999577658115\n",
            "Val accuracy: 0.3440886699507389\n"
          ]
        },
        {
          "output_type": "display_data",
          "data": {
            "image/png": "[encoded data removed]",
            "text/plain": [
              "<Figure size 432x288 with 1 Axes>"
            ]
          },
          "metadata": {
            "needs_background": "light"
          }
        },
        {
          "output_type": "stream",
          "name": "stdout",
          "text": [
            "Epoch 7\n",
            "Train accuracy: 0.3433639531200507\n",
            "Val accuracy: 0.3502463054187192\n"
          ]
        },
        {
          "output_type": "display_data",
          "data": {
            "image/png": "[encoded data removed]",
            "text/plain": [
              "<Figure size 432x288 with 1 Axes>"
            ]
          },
          "metadata": {
            "needs_background": "light"
          }
        },
        {
          "output_type": "stream",
          "name": "stdout",
          "text": [
            "Epoch 8\n",
            "Train accuracy: 0.36764861155105055\n",
            "Val accuracy: 0.3733990147783251\n"
          ]
        },
        {
          "output_type": "display_data",
          "data": {
            "image/png": "[encoded data removed]",
            "text/plain": [
              "<Figure size 432x288 with 1 Axes>"
            ]
          },
          "metadata": {
            "needs_background": "light"
          }
        },
        {
          "output_type": "stream",
          "name": "stdout",
          "text": [
            "Epoch 9\n",
            "Train accuracy: 0.387498680181607\n",
            "Val accuracy: 0.38645320197044336\n"
          ]
        },
        {
          "output_type": "display_data",
          "data": {
            "image/png": "[encoded data removed]",
            "text/plain": [
              "<Figure size 432x288 with 1 Axes>"
            ]
          },
          "metadata": {
            "needs_background": "light"
          }
        },
        {
          "output_type": "stream",
          "name": "stdout",
          "text": [
            "Epoch 10\n",
            "Train accuracy: 0.402069475240207\n",
            "Val accuracy: 0.4009852216748768\n"
          ]
        },
        {
          "output_type": "display_data",
          "data": {
            "image/png": "[encoded data removed]",
            "text/plain": [
              "<Figure size 432x288 with 1 Axes>"
            ]
          },
          "metadata": {
            "needs_background": "light"
          }
        },
        {
          "output_type": "stream",
          "name": "stdout",
          "text": [
            "Epoch 11\n",
            "Train accuracy: 0.40946045824094607\n",
            "Val accuracy: 0.40935960591133\n"
          ]
        },
        {
          "output_type": "display_data",
          "data": {
            "image/png": "[encoded data removed]",
            "text/plain": [
              "<Figure size 432x288 with 1 Axes>"
            ]
          },
          "metadata": {
            "needs_background": "light"
          }
        },
        {
          "output_type": "stream",
          "name": "stdout",
          "text": [
            "Epoch 12\n",
            "Train accuracy: 0.4153732446415373\n",
            "Val accuracy: 0.4140394088669951\n"
          ]
        },
        {
          "output_type": "display_data",
          "data": {
            "image/png": "[encoded data removed]",
            "text/plain": [
              "<Figure size 432x288 with 1 Axes>"
            ]
          },
          "metadata": {
            "needs_background": "light"
          }
        },
        {
          "output_type": "stream",
          "name": "stdout",
          "text": [
            "Epoch 13\n",
            "Train accuracy: 0.42308098405659383\n",
            "Val accuracy: 0.4253694581280788\n"
          ]
        },
        {
          "output_type": "display_data",
          "data": {
            "image/png": "[encoded data removed]",
            "text/plain": [
              "<Figure size 432x288 with 1 Axes>"
            ]
          },
          "metadata": {
            "needs_background": "light"
          }
        },
        {
          "output_type": "stream",
          "name": "stdout",
          "text": [
            "Epoch 14\n",
            "Train accuracy: 0.4307887234716503\n",
            "Val accuracy: 0.42931034482758623\n"
          ]
        },
        {
          "output_type": "display_data",
          "data": {
            "image/png": "[encoded data removed]",
            "text/plain": [
              "<Figure size 432x288 with 1 Axes>"
            ]
          },
          "metadata": {
            "needs_background": "light"
          }
        },
        {
          "output_type": "stream",
          "name": "stdout",
          "text": [
            "Epoch 15\n",
            "Train accuracy: 0.4309998944145286\n",
            "Val accuracy: 0.43817733990147784\n"
          ]
        },
        {
          "output_type": "display_data",
          "data": {
            "image/png": "[encoded data removed]",
            "text/plain": [
              "<Figure size 432x288 with 1 Axes>"
            ]
          },
          "metadata": {
            "needs_background": "light"
          }
        },
        {
          "output_type": "stream",
          "name": "stdout",
          "text": [
            "Epoch 16\n",
            "Train accuracy: 0.43839087741526767\n",
            "Val accuracy: 0.43940886699507387\n"
          ]
        },
        {
          "output_type": "display_data",
          "data": {
            "image/png": "[encoded data removed]",
            "text/plain": [
              "<Figure size 432x288 with 1 Axes>"
            ]
          },
          "metadata": {
            "needs_background": "light"
          }
        },
        {
          "output_type": "stream",
          "name": "stdout",
          "text": [
            "Epoch 17\n",
            "Train accuracy: 0.4420863689156372\n",
            "Val accuracy: 0.4480295566502463\n"
          ]
        },
        {
          "output_type": "display_data",
          "data": {
            "image/png": "[encoded data removed]",
            "text/plain": [
              "<Figure size 432x288 with 1 Axes>"
            ]
          },
          "metadata": {
            "needs_background": "light"
          }
        },
        {
          "output_type": "stream",
          "name": "stdout",
          "text": [
            "Epoch 18\n",
            "Train accuracy: 0.44229753985851544\n",
            "Val accuracy: 0.45123152709359604\n"
          ]
        },
        {
          "output_type": "display_data",
          "data": {
            "image/png": "[encoded data removed]",
            "text/plain": [
              "<Figure size 432x288 with 1 Axes>"
            ]
          },
          "metadata": {
            "needs_background": "light"
          }
        },
        {
          "output_type": "stream",
          "name": "stdout",
          "text": [
            "Epoch 19\n",
            "Train accuracy: 0.4458874458874459\n",
            "Val accuracy: 0.4559113300492611\n"
          ]
        },
        {
          "output_type": "display_data",
          "data": {
            "image/png": "[encoded data removed]",
            "text/plain": [
              "<Figure size 432x288 with 1 Axes>"
            ]
          },
          "metadata": {
            "needs_background": "light"
          }
        },
        {
          "output_type": "stream",
          "name": "stdout",
          "text": [
            "Epoch 20\n",
            "Train accuracy: 0.44683771513039805\n",
            "Val accuracy: 0.45689655172413796\n"
          ]
        },
        {
          "output_type": "display_data",
          "data": {
            "image/png": "[encoded data removed]",
            "text/plain": [
              "<Figure size 432x288 with 1 Axes>"
            ]
          },
          "metadata": {
            "needs_background": "light"
          }
        },
        {
          "output_type": "stream",
          "name": "stdout",
          "text": [
            "Epoch 21\n",
            "Train accuracy: 0.44863266814486324\n",
            "Val accuracy: 0.45615763546798027\n"
          ]
        },
        {
          "output_type": "display_data",
          "data": {
            "image/png": "[encoded data removed]",
            "text/plain": [
              "<Figure size 432x288 with 1 Axes>"
            ]
          },
          "metadata": {
            "needs_background": "light"
          }
        },
        {
          "output_type": "stream",
          "name": "stdout",
          "text": [
            "Epoch 22\n",
            "Train accuracy: 0.4497941083306937\n",
            "Val accuracy: 0.45\n"
          ]
        },
        {
          "output_type": "display_data",
          "data": {
            "image/png": "[encoded data removed]",
            "text/plain": [
              "<Figure size 432x288 with 1 Axes>"
            ]
          },
          "metadata": {
            "needs_background": "light"
          }
        },
        {
          "output_type": "stream",
          "name": "stdout",
          "text": [
            "Epoch 23\n",
            "Train accuracy: 0.4530672579453067\n",
            "Val accuracy: 0.4517241379310345\n"
          ]
        },
        {
          "output_type": "display_data",
          "data": {
            "image/png": "[encoded data removed]",
            "text/plain": [
              "<Figure size 432x288 with 1 Axes>"
            ]
          },
          "metadata": {
            "needs_background": "light"
          }
        },
        {
          "output_type": "stream",
          "name": "stdout",
          "text": [
            "Epoch 24\n",
            "Train accuracy: 0.4556013092598458\n",
            "Val accuracy: 0.454679802955665\n"
          ]
        },
        {
          "output_type": "display_data",
          "data": {
            "image/png": "[encoded data removed]",
            "text/plain": [
              "<Figure size 432x288 with 1 Axes>"
            ]
          },
          "metadata": {
            "needs_background": "light"
          }
        },
        {
          "output_type": "stream",
          "name": "stdout",
          "text": [
            "precision: 0.4529714197421628\n",
            "recall: 0.4574755281561564\n",
            "f1: 0.4469831739365027\n",
            "accuracy: 0.454679802955665\n",
            "Confusion matrix: \n",
            "[[706 319 312]\n",
            " [110 827 400]\n",
            " [331 742 313]]\n"
          ]
        }
      ]
    },
    {
      "cell_type": "markdown",
      "source": [
        "\n",
        "## Ready Multi-Layer Perceptron\n"
      ],
      "metadata": {
        "id": "rc-mr9Ik8_82"
      }
    },
    {
      "cell_type": "code",
      "source": [
        "from sklearn.neural_network import MLPClassifier\n",
        "\n",
        "epochs = 25\n",
        "mlp = MLPClassifier(hidden_layer_sizes=(10, 15, 20), max_iter = epochs)\n",
        "\n",
        "mlp.fit(X_train,y_train)\n",
        "\n",
        "y_pred = mlp.predict(X_test)\n",
        "eval = Evaluate(y_test, y_pred)\n",
        "eval.get_evaluation_report()"
      ],
      "metadata": {
        "colab": {
          "base_uri": "https://localhost:8080/"
        },
        "id": "hHLR7WhO9EaK",
        "outputId": "439f917d-4df8-43ea-95ca-c535249a7e93"
      },
      "execution_count": null,
      "outputs": [
        {
          "output_type": "stream",
          "name": "stdout",
          "text": [
            "precision: 0.7201403347034399\n",
            "recall: 0.7105069644336659\n",
            "f1: 0.7087124389354275\n",
            "accuracy: 0.7110837438423645\n",
            "Confusion matrix: \n",
            "[[ 778  242  317]\n",
            " [  54 1058  225]\n",
            " [ 163  172 1051]]\n"
          ]
        },
        {
          "output_type": "stream",
          "name": "stderr",
          "text": [
            "/usr/local/lib/python3.7/dist-packages/sklearn/neural_network/_multilayer_perceptron.py:696: ConvergenceWarning: Stochastic Optimizer: Maximum iterations (25) reached and the optimization hasn't converged yet.\n",
            "  ConvergenceWarning,\n"
          ]
        }
      ]
    },
    {
      "cell_type": "markdown",
      "source": [
        "## Comparison of implementations\n",
        "\n",
        "  \n",
        "We compared your results both in terms of execution times and in terms of results. The difference in the results results from the fact that in the ready class there have been several optimizations in the operation, in the way of training etc. resulting in better results. However, in our class we have better control and we have the ability to design more complex architectures as we change the parameter values ​​that in the finished class we may not be able to."
      ],
      "metadata": {
        "id": "TpIW7Svz9V6T"
      }
    },
    {
      "cell_type": "markdown",
      "source": [
        "Comment:\n",
        "\n",
        "ΚΝΝ:\n",
        "\n",
        "\n",
        "* Very simple classifier\n",
        "* Trained fast\n",
        "* Can not learn complex separation surfaces\n",
        "\n",
        "Naive Bayes:\n",
        "\n",
        "\n",
        "* Simple classifier\n",
        "* Trained fast\n",
        "* Can be scaled easily\n",
        "* The assumption of feature independence is not always valid\n",
        "\n",
        "\n",
        "MLP:\n",
        "\n",
        "\n",
        "* More complex implementation compared to the previous ones\n",
        "* Can learn very complex separation surfaces with the right number of trainable parameters\n",
        "* Risk of Overfitting (many layers and units)"
      ],
      "metadata": {
        "id": "H8B-S6ZI9dU0"
      }
    }
  ]
}